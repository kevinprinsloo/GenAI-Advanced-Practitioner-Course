{
 "cells": [
  {
   "cell_type": "markdown",
   "metadata": {},
   "source": [
    "---\n",
    "\n",
    "<div style=\"text-align: center; background-color: white;\">\n",
    "    <img src='https://github.com/kevinprinsloo/GenAI-Advanced-Practitioner-Course/blob/main/GenAI%20Centre%20Logo%20Main%20Banner.png?raw=true'/>\n",
    "</div>\n",
    "\n",
    "---"
   ]
  },
  {
   "cell_type": "markdown",
   "metadata": {},
   "source": [
    "# 🚀 Introduction to Google Colab\n",
    "\n",
    "Welcome to Google Colab! This document will guide you through the basics of using Google Colab, a powerful tool for data science and machine learning. By the end of this guide, you'll be able to create, open, and use notebooks in Google Colab.\n",
    "\n",
    "---\n",
    "\n",
    "## 📖 What is Google Colab?\n",
    "\n",
    "Google Colab, or \"Colaboratory\", is a free, cloud-based Jupyter notebook environment provided by Google. It allows you to write and execute Python code in your browser with the following benefits:\n",
    "- No setup required\n",
    "- Free access to GPUs\n",
    "- Easy sharing and collaboration\n",
    "\n",
    "You can think of Google Colab as a Google Docs for coding and data science.\n",
    "\n",
    "---\n",
    "\n",
    "## 📂 How to Open and Use Notebooks in Google Colab\n",
    "\n",
    "### 1. Opening a New Notebook\n",
    "\n",
    "1. **Visit [Google Colab](https://colab.research.google.com/)**\n",
    "   - Go to the [Google Colab homepage](https://colab.research.google.com/).\n",
    "   - Sign in with your Google account if you haven't already.\n",
    "\n",
    "2. **Create a New Notebook**\n",
    "   - Click on `File` > `New notebook` from the top menu.\n",
    "   - This will open a new notebook where you can start coding.\n",
    "\n",
    "### 2. Uploading an Existing Notebook\n",
    "\n",
    "If you have a `.ipynb` notebook file on your local machine, you can upload it to Google Colab.\n",
    "\n",
    "1. **Upload from Google Colab Interface**\n",
    "   - Go to the [Google Colab homepage](https://colab.research.google.com/).\n",
    "   - Click on the `Upload` tab.\n",
    "   - Choose your `.ipynb` file from your local machine.\n",
    "\n",
    "### 3. Opening a Notebook from Google Drive\n",
    "\n",
    "Google Colab integrates seamlessly with Google Drive.\n",
    "\n",
    "1. **Save Your Notebook to Google Drive**\n",
    "   - Ensure your notebook is saved in your Google Drive.\n",
    "   - If not, upload it to Google Drive.\n",
    "\n",
    "2. **Open from Google Drive**\n",
    "   - Go to the [Google Colab homepage](https://colab.research.google.com/).\n",
    "   - Click on the `Google Drive` tab.\n",
    "   - Navigate to your notebook and open it.\n",
    "\n",
    "### 4. Opening a Notebook from GitHub\n",
    "\n",
    "You can also open notebooks directly from GitHub.\n",
    "\n",
    "1. **Open from GitHub**\n",
    "   - Go to the [Google Colab homepage](https://colab.research.google.com/).\n",
    "   - Click on the `GitHub` tab.\n",
    "   - Authenticate with your GitHub account if prompted.\n",
    "   - Enter the GitHub repository URL or use the search box to find your notebook.\n",
    "   - Select the notebook you want to open.\n",
    "\n",
    "---\n",
    "\n",
    "## 🛠 Using Google Colab Notebooks\n",
    "\n",
    "### 1. Writing and Running Code\n",
    "\n",
    "- **Code Cells:** Colab notebooks are made up of code cells. Click on a cell to start writing Python code.\n",
    "- **Running Code:** Click the `Run` button (▶️) on the left of the cell, or press `Shift + Enter` to execute the code in the cell.\n",
    "\n",
    "### 2. Adding Text\n",
    "\n",
    "- **Text Cells:** You can add text cells for explanations or documentation.\n",
    "- **Markdown:** Text cells use Markdown language, which allows you to format text, add links, images, and more.\n",
    "\n",
    "### 3. Installing Libraries\n",
    "\n",
    "You can install additional Python libraries using `pip`.\n",
    "\n",
    "\n",
    "```!pip install numpy\n",
    "```\n",
    "---\n",
    "\n",
    "## 🎓 Tips and Best Practices\n",
    "- **Save Frequently:** Google Colab saves your work automatically, but it's good practice to save manually by clicking File > Save a copy in Drive.\n",
    "- **Organize Your Work:** Use text cells to keep your notebook well-documented.\n",
    "- **Explore Examples:** Check out the Google Colab examples for more insights and ideas.\n",
    "\n"
   ]
  },
  {
   "cell_type": "markdown",
   "metadata": {},
   "source": [
    "---"
   ]
  },
  {
   "cell_type": "markdown",
   "metadata": {},
   "source": [
    "# How to Open a Jupyter Notebook from GitHub in Google Colab\n",
    "\n",
    "1. **Find the GitHub Repository**: Navigate to the GitHub repository where the Jupyter notebook is located.\n",
    "\n",
    "2. **Get the URL of the Notebook**: Click on the Jupyter notebook file (`.ipynb` file) that you want to open. This will open the notebook in the GitHub viewer. Copy the URL of the notebook from your browser's address bar.\n",
    "\n",
    "3. **Open Google Colab**: In a new browser tab, navigate to Google Colab.\n",
    "\n",
    "4. **Open the Notebook in Colab**: In the Colab interface, click on `File > Open notebook`. In the dialog box that appears, click on the `GitHub` tab. Paste the copied URL into the `Enter a GitHub URL or search by organization or user` box and press `Enter`. Click on the notebook in the search results to open it.\n",
    "\n",
    "5. **Run the Notebook**: Now you can run the notebook in Google Colab just like you would in a local Jupyter notebook environment. Remember to save your changes to Google Drive if you want to keep them, as changes to notebooks opened directly from GitHub are not saved back to the GitHub repository.\n"
   ]
  },
  {
   "cell_type": "markdown",
   "metadata": {},
   "source": [
    "# Open Notebooks in Google Colab\n",
    "\n",
    "Click the links below to open the corresponding notebooks in Google Colab:\n",
    "\n",
    "- [Notebook 1](https://colab.research.google.com/github/Azure-Samples/openai/blob/main/Basic_Samples/Chat/basic_chatcompletions_example_sdk.ipynb)\n",
    "- [Notebook 2](https://colab.research.google.com/github/username/repository/blob/main/notebook2.ipynb)\n",
    "- [Notebook 3](https://colab.research.google.com/github/username/repository/blob/main/notebook3.ipynb)\n"
   ]
  },
  {
   "cell_type": "markdown",
   "metadata": {},
   "source": [
    "# Instructions to Open Notebooks in Google Colab\n",
    "\n",
    "## Option 1: Manual Instructions\n",
    "\n",
    "Provide users with clear instructions in your GitHub README file:\n",
    "\n",
    "### Locate the Notebook on GitHub:\n",
    "\n",
    "1. Navigate to the notebook file you want to open in Colab.\n",
    "\n",
    "### Modify the URL:\n",
    "\n",
    "2. Replace the GitHub URL with the following format:\n",
    "\n",
    "`https://colab.research.google.com/github/username/repository/blob/branch/notebook.ipynb`\n",
    "\n",
    "3. For example, if your notebook is located at `https://github.com/username/repository/blob/main/notebook.ipynb`, the corresponding Colab URL would be:\n",
    "\n",
    "`https://colab.research.google.com/github/username/repository/blob/main/notebook.ipynb`\n",
    "\n",
    "### Open the Notebook in Colab:\n",
    "\n",
    "4. Paste the modified URL into your browser and press Enter.\n"
   ]
  },
  {
   "cell_type": "markdown",
   "metadata": {},
   "source": []
  },
  {
   "cell_type": "markdown",
   "metadata": {},
   "source": []
  },
  {
   "cell_type": "markdown",
   "metadata": {},
   "source": []
  },
  {
   "cell_type": "code",
   "execution_count": null,
   "metadata": {},
   "outputs": [],
   "source": [
    "https://github.com/Azure-Samples/openai/blob/main/Basic_Samples/Chat/basic_chatcompletions_example_sdk.ipynb"
   ]
  },
  {
   "cell_type": "code",
   "execution_count": null,
   "metadata": {},
   "outputs": [],
   "source": [
    "https://github.com/username/repository/blob/main/notebook.ipynb\n",
    "\n",
    "https://colab.research.google.com/github/Azure-Samples/openai/blob/main/Basic_Samples/Chat/basic_chatcompletions_example_sdk.ipynb\n"
   ]
  }
 ],
 "metadata": {
  "language_info": {
   "name": "python"
  }
 },
 "nbformat": 4,
 "nbformat_minor": 2
}
